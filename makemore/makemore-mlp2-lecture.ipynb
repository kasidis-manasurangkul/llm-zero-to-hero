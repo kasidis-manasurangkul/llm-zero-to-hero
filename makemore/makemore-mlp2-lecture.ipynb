{
 "cells": [
  {
   "cell_type": "code",
   "execution_count": 2,
   "metadata": {},
   "outputs": [],
   "source": [
    "import torch\n",
    "import torch.nn.functional as F\n",
    "import matplotlib.pyplot as plt\n",
    "%matplotlib inline"
   ]
  },
  {
   "cell_type": "code",
   "execution_count": 3,
   "metadata": {},
   "outputs": [],
   "source": [
    "words = open('names.txt').read().splitlines()"
   ]
  },
  {
   "cell_type": "code",
   "execution_count": 4,
   "metadata": {},
   "outputs": [
    {
     "name": "stdout",
     "output_type": "stream",
     "text": [
      "{'a': 1, 'b': 2, 'c': 3, 'd': 4, 'e': 5, 'f': 6, 'g': 7, 'h': 8, 'i': 9, 'j': 10, 'k': 11, 'l': 12, 'm': 13, 'n': 14, 'o': 15, 'p': 16, 'q': 17, 'r': 18, 's': 19, 't': 20, 'u': 21, 'v': 22, 'w': 23, 'x': 24, 'y': 25, 'z': 26, '.': 0}\n",
      "{1: 'a', 2: 'b', 3: 'c', 4: 'd', 5: 'e', 6: 'f', 7: 'g', 8: 'h', 9: 'i', 10: 'j', 11: 'k', 12: 'l', 13: 'm', 14: 'n', 15: 'o', 16: 'p', 17: 'q', 18: 'r', 19: 's', 20: 't', 21: 'u', 22: 'v', 23: 'w', 24: 'x', 25: 'y', 26: 'z', 0: '.'}\n"
     ]
    }
   ],
   "source": [
    "chars = sorted(list(set(''.join(words))))\n",
    "stoi = {c: i + 1 for i, c in enumerate(chars)}\n",
    "stoi['.'] = 0\n",
    "print(stoi)\n",
    "itos = {i: c for c, i in stoi.items()}\n",
    "# itos = {i: ch for ch, i in stoi.items()}\n",
    "print(itos)"
   ]
  },
  {
   "cell_type": "code",
   "execution_count": 5,
   "metadata": {},
   "outputs": [
    {
     "data": {
      "text/plain": [
       "(torch.Size([182625, 3]), torch.Size([22655, 3]), torch.Size([22866, 3]))"
      ]
     },
     "execution_count": 5,
     "metadata": {},
     "output_type": "execute_result"
    }
   ],
   "source": [
    "def buid_dataset(words):\n",
    "    # build dataset\n",
    "    block_size = 3\n",
    "    X, Y = [], []\n",
    "    for w in words:\n",
    "        context = [0] * block_size\n",
    "        for ch in w + '.':\n",
    "            ix = stoi[ch]\n",
    "            X.append(context)\n",
    "            Y.append(ix)\n",
    "            # print(''.join(itos[i] for i in context), '----->', itos[ix])\n",
    "            context = context[1:] + [ix]\n",
    "\n",
    "    X = torch.tensor(X)\n",
    "    Y = torch.tensor(Y)\n",
    "    return X, Y\n",
    "\n",
    "import random\n",
    "random.seed(42)\n",
    "random.shuffle(words)\n",
    "n1 = int(0.8 * len(words)) \n",
    "n2 = int(0.9 * len(words))\n",
    "\n",
    "Xtr, Ytr = buid_dataset(words[:n1])\n",
    "Xdev, Ydev = buid_dataset(words[n1:n2])\n",
    "Xte, Yte = buid_dataset(words[n2:])\n",
    "Xtr.shape, Xdev.shape, Xte.shape"
   ]
  },
  {
   "cell_type": "code",
   "execution_count": 6,
   "metadata": {},
   "outputs": [
    {
     "data": {
      "text/plain": [
       "tensor(0.2013)"
      ]
     },
     "execution_count": 6,
     "metadata": {},
     "output_type": "execute_result"
    }
   ],
   "source": [
    "# how to find the efficent W1 std by kaiming init\n",
    "(torch.randn(10000) * 0.2).std()"
   ]
  },
  {
   "cell_type": "code",
   "execution_count": 7,
   "metadata": {},
   "outputs": [
    {
     "data": {
      "text/plain": [
       "0.3042903097250923"
      ]
     },
     "execution_count": 7,
     "metadata": {},
     "output_type": "execute_result"
    }
   ],
   "source": [
    "# kaiming init std formula gain * (fan_in) ** -0.5\n",
    "(5/3) / (30 ** 0.5)"
   ]
  },
  {
   "cell_type": "code",
   "execution_count": 36,
   "metadata": {},
   "outputs": [],
   "source": [
    "n_embd = 10 # embedding size\n",
    "n_hidden = 200 # hidden layer size\n",
    "block_size = 3\n",
    "\n",
    "g = torch.Generator().manual_seed(2147483647)\n",
    "C = torch.randn((27, n_embd), generator=g)\n",
    "W1 = torch.randn((block_size * n_embd, n_hidden), generator=g) * (5/3) / (n_embd * block_size) ** 0.5\n",
    "# b1 = torch.randn(n_hidden, generator=g) * 0.02\n",
    "W2 = torch.randn((n_hidden, 27), generator=g) * 0.01\n",
    "b2 = torch.randn(27, generator=g) * 0.0\n",
    "\n",
    "bngain = torch.ones((1, n_hidden))\n",
    "bnbias = torch.zeros((1, n_hidden))\n",
    "bnmean_running = torch.zeros((1, n_hidden))\n",
    "bnstd_running = torch.ones((1, n_hidden))\n",
    "\n",
    "parameters = [C, W1, W2, b2, bngain, bnbias]\n",
    "sum(p.nelement() for p in parameters)\n",
    "for p in parameters:\n",
    "    p.requires_grad = True"
   ]
  },
  {
   "cell_type": "code",
   "execution_count": 27,
   "metadata": {},
   "outputs": [
    {
     "data": {
      "text/plain": [
       "(array([44., 30., 22., 31., 38., 32., 35., 34., 36., 45., 40., 34., 42.,\n",
       "        34., 33., 42., 40., 37., 41., 38., 35., 41., 36., 35., 41., 37.,\n",
       "        47.]),\n",
       " array([  0.        ,   9.9629631 ,  19.92592621,  29.88888931,\n",
       "         39.85185242,  49.81481552,  59.77777863,  69.74073792,\n",
       "         79.70370483,  89.66666412,  99.62963104, 109.59259033,\n",
       "        119.55555725, 129.51852417, 139.48147583, 149.44444275,\n",
       "        159.40740967, 169.37037659, 179.33332825, 189.29629517,\n",
       "        199.25926208, 209.222229  , 219.18518066, 229.14814758,\n",
       "        239.1111145 , 249.07408142, 259.03704834, 269.        ]),\n",
       " <BarContainer object of 27 artists>)"
      ]
     },
     "execution_count": 27,
     "metadata": {},
     "output_type": "execute_result"
    },
    {
     "data": {
      "image/png": "[encoded data removed]",
      "text/plain": [
       "<Figure size 640x480 with 1 Axes>"
      ]
     },
     "metadata": {},
     "output_type": "display_data"
    }
   ],
   "source": [
    "x = torch.randint(0, 270, (1000,)).float()\n",
    "# x = (x - x.mean()) / x.std()\n",
    "plt.hist(x, bins=27)"
   ]
  },
  {
   "cell_type": "code",
   "execution_count": 28,
   "metadata": {},
   "outputs": [
    {
     "name": "stdout",
     "output_type": "stream",
     "text": [
      "0 / 200000 loss: 3.3146886825561523\n",
      "10000 / 200000 loss: 2.1984434127807617\n",
      "20000 / 200000 loss: 2.3374552726745605\n",
      "30000 / 200000 loss: 2.435884475708008\n",
      "40000 / 200000 loss: 2.011928081512451\n",
      "50000 / 200000 loss: 2.259471893310547\n",
      "60000 / 200000 loss: 2.477499485015869\n",
      "70000 / 200000 loss: 2.1020002365112305\n",
      "80000 / 200000 loss: 2.2788119316101074\n",
      "90000 / 200000 loss: 2.186206340789795\n",
      "100000 / 200000 loss: 1.9473828077316284\n",
      "110000 / 200000 loss: 2.3010759353637695\n",
      "120000 / 200000 loss: 1.983335256576538\n",
      "130000 / 200000 loss: 2.452256917953491\n",
      "140000 / 200000 loss: 2.383953094482422\n",
      "150000 / 200000 loss: 2.1989870071411133\n",
      "160000 / 200000 loss: 1.9731444120407104\n",
      "170000 / 200000 loss: 1.8669058084487915\n",
      "180000 / 200000 loss: 1.997373104095459\n",
      "190000 / 200000 loss: 1.8346697092056274\n",
      "tensor(2.4314, grad_fn=<NllLossBackward0>)\n"
     ]
    }
   ],
   "source": [
    "max_steps = 200000\n",
    "batch_size = 32\n",
    "lossi = []\n",
    "\n",
    "for i in range(max_steps):\n",
    "    # mini batch\n",
    "    idx = torch.randint(0, Xtr.shape[0], (batch_size,), generator=g)\n",
    "    emb = C[Xtr[idx]]\n",
    "    hpreact = emb.view(emb.shape[0], 30) @ W1 #+ b1\n",
    "    bnmeani = hpreact.mean(0, keepdim=True)\n",
    "    bnstdi = hpreact.std(0, keepdim=True)\n",
    "    hpreact = bngain * (hpreact - bnmeani) / bnstdi + bnbias\n",
    "    # if i == 9:\n",
    "    #     plt.hist((torch.tanh(hpreact[0, :].data)))\n",
    "    with torch.no_grad():\n",
    "        bnmean_running = 0.999 * bnmean_running + 0.001 * bnmeani\n",
    "        bnstd_running = 0.999 * bnstd_running + 0.001 * bnstdi\n",
    "        \n",
    "    h = torch.tanh(hpreact)\n",
    "    # plt.plot(h.data)\n",
    "    logits = h @ W2 + b2\n",
    "    loss = F.cross_entropy(logits, Ytr[idx])\n",
    "    for p in parameters:\n",
    "        p.grad = None\n",
    "    loss.backward()\n",
    "\n",
    "    # lr = lrs[i]\n",
    "    if i > 100000:\n",
    "        lr = 0.01\n",
    "    else :\n",
    "        lr = 0.1\n",
    "\n",
    "    for p in parameters:\n",
    "        p.data -= p.grad * lr\n",
    "    \n",
    "    if i % 10000 == 0:\n",
    "        print(i, '/', max_steps, 'loss:', loss.item())\n",
    "    lossi.append(loss.item())\n",
    "print(loss)"
   ]
  },
  {
   "cell_type": "code",
   "execution_count": 29,
   "metadata": {},
   "outputs": [
    {
     "name": "stdout",
     "output_type": "stream",
     "text": [
      "torch.Size([32, 200])\n"
     ]
    },
    {
     "data": {
      "text/plain": [
       "<matplotlib.image.AxesImage at 0x1f950ea6ad0>"
      ]
     },
     "execution_count": 29,
     "metadata": {},
     "output_type": "execute_result"
    },
    {
     "data": {
      "image/png": "[encoded data removed]",
      "text/plain": [
       "<Figure size 2000x1000 with 1 Axes>"
      ]
     },
     "metadata": {},
     "output_type": "display_data"
    }
   ],
   "source": [
    "plt.figure(figsize=(20, 10))\n",
    "print(h.shape)\n",
    "plt.imshow(h.abs() > 0.99, cmap='gray', interpolation='nearest')"
   ]
  },
  {
   "cell_type": "code",
   "execution_count": 30,
   "metadata": {},
   "outputs": [
    {
     "data": {
      "image/png": "[encoded data removed]",
      "text/plain": [
       "<Figure size 640x480 with 1 Axes>"
      ]
     },
     "metadata": {},
     "output_type": "display_data"
    }
   ],
   "source": [
    "plt.hist(h.view(-1).detach().numpy(), bins=50);"
   ]
  },
  {
   "cell_type": "code",
   "execution_count": 31,
   "metadata": {},
   "outputs": [
    {
     "data": {
      "text/plain": [
       "[<matplotlib.lines.Line2D at 0x1f94b2993f0>]"
      ]
     },
     "execution_count": 31,
     "metadata": {},
     "output_type": "execute_result"
    },
    {
     "data": {
      "image/png": "[encoded data removed]",
      "text/plain": [
       "<Figure size 640x480 with 1 Axes>"
      ]
     },
     "metadata": {},
     "output_type": "display_data"
    }
   ],
   "source": [
    "plt.plot(lossi)"
   ]
  },
  {
   "cell_type": "code",
   "execution_count": 33,
   "metadata": {},
   "outputs": [
    {
     "name": "stdout",
     "output_type": "stream",
     "text": [
      "mean: tensor([[-2.3745,  0.6784, -0.9000,  1.0357,  1.0875,  1.0954,  1.7348, -2.1460,\n",
      "          0.5519,  1.4324, -1.6336, -2.7501, -0.4846, -0.1278, -0.0577, -1.1571,\n",
      "          0.6884, -2.6514, -0.1424,  1.6363, -0.7775, -0.2741,  0.0533,  0.6089,\n",
      "          1.1303,  0.2581,  2.0653,  0.5769,  0.8596,  1.7652, -0.3724, -0.8367,\n",
      "         -0.0785, -0.5355, -0.3924, -1.0788, -0.0820,  0.3384, -0.5662,  1.0098,\n",
      "         -0.4513, -1.3353, -0.2765, -0.2479,  0.6847,  0.6903,  2.0834, -0.7864,\n",
      "          2.3891,  1.8486,  0.8083,  0.2642,  1.8708,  0.4746,  0.6552, -1.8984,\n",
      "         -0.0301,  0.4480,  1.3996, -0.8739, -0.4680,  1.1599,  0.5481,  0.5931,\n",
      "          1.5877,  1.2050, -1.0101,  2.1400, -0.6258,  0.1057, -0.2820, -0.4967,\n",
      "          0.9521, -1.0195, -2.9917,  0.6157,  1.4418, -0.1616,  0.0961,  0.5138,\n",
      "          0.2620,  1.2411,  1.9934,  0.6686,  0.0797, -0.0880, -1.6725,  0.2943,\n",
      "          2.2242, -0.0040, -0.6448,  1.4457, -0.8407, -1.2340, -1.0124,  0.2130,\n",
      "          0.1858, -0.3345,  0.1130, -0.6491,  0.1772,  0.1183, -1.4015,  0.2407,\n",
      "          0.2413, -0.3110, -0.3525, -0.1947,  0.9543, -0.8487,  0.7212,  0.2522,\n",
      "          0.3911,  1.2327,  2.8527,  2.0175,  0.8302,  0.8514,  0.3315, -0.3193,\n",
      "         -1.0709, -1.4400,  0.3357,  1.1441, -1.1268,  0.0612, -0.2331, -0.5021,\n",
      "         -0.8516, -1.0764,  2.8045, -1.2829,  0.6482,  1.8683,  0.9852,  1.0734,\n",
      "         -0.7015,  1.8278,  0.1689,  0.4710,  1.6199, -0.2069,  1.9239,  0.2775,\n",
      "          0.4412,  0.1983,  1.1330, -0.6678,  0.1546,  0.5980, -1.5937, -0.2245,\n",
      "          1.7602,  1.2755,  0.9890, -0.5032,  1.4171, -1.6653,  0.0266,  0.4072,\n",
      "          0.5948, -0.4023,  0.9188, -1.1634, -0.4485, -0.7162, -0.3071, -0.4136,\n",
      "         -2.1364, -0.1112,  1.1669, -2.1566,  0.1181, -0.8948, -0.9906,  0.9047,\n",
      "          1.3696, -0.7493,  1.3056, -1.5163,  1.8420,  0.9663,  0.8097, -0.7180,\n",
      "          0.3616,  0.0797, -0.9654,  0.1198,  1.8856,  0.9002, -0.5095,  1.6559,\n",
      "         -0.7439,  0.2089,  0.1634,  1.2499,  1.8111, -0.7987,  0.2326,  1.2421]])\n"
     ]
    }
   ],
   "source": [
    "print('mean:', bnmean_running)\n"
   ]
  },
  {
   "cell_type": "code",
   "execution_count": 35,
   "metadata": {},
   "outputs": [
    {
     "name": "stdout",
     "output_type": "stream",
     "text": [
      "mean: tensor([[-2.3560,  0.6687, -0.9132,  1.0361,  1.0847,  1.1030,  1.7396, -2.1311,\n",
      "          0.5642,  1.4533, -1.6235, -2.7447, -0.4737, -0.1180, -0.0635, -1.1743,\n",
      "          0.6845, -2.6334, -0.1206,  1.6448, -0.7749, -0.2939,  0.0545,  0.6085,\n",
      "          1.1304,  0.2575,  2.0610,  0.5822,  0.8608,  1.7604, -0.3608, -0.8337,\n",
      "         -0.0808, -0.5334, -0.3913, -1.0788, -0.0825,  0.3501, -0.5701,  1.0038,\n",
      "         -0.4432, -1.3122, -0.2742, -0.2513,  0.6821,  0.6818,  2.0856, -0.7713,\n",
      "          2.3952,  1.8606,  0.8225,  0.2711,  1.8803,  0.4750,  0.6635, -1.8962,\n",
      "         -0.0282,  0.4462,  1.3832, -0.8743, -0.4527,  1.1665,  0.5555,  0.5982,\n",
      "          1.5883,  1.2207, -1.0041,  2.1474, -0.6321,  0.0925, -0.2758, -0.4992,\n",
      "          0.9647, -1.0513, -2.9982,  0.6280,  1.4341, -0.1632,  0.0947,  0.5232,\n",
      "          0.2641,  1.2532,  2.0218,  0.6599,  0.0720, -0.0843, -1.6681,  0.2913,\n",
      "          2.2291, -0.0150, -0.6445,  1.4353, -0.8388, -1.2271, -1.0032,  0.2160,\n",
      "          0.2042, -0.3310,  0.1163, -0.6636,  0.1824,  0.1259, -1.3955,  0.2535,\n",
      "          0.2282, -0.3235, -0.3595, -0.2017,  0.9445, -0.8272,  0.7241,  0.2429,\n",
      "          0.4062,  1.2235,  2.8723,  2.0307,  0.8427,  0.8535,  0.3315, -0.3268,\n",
      "         -1.0583, -1.4470,  0.3450,  1.1341, -1.1281,  0.0608, -0.2226, -0.5049,\n",
      "         -0.8603, -1.0828,  2.8063, -1.2872,  0.6484,  1.8656,  0.9701,  1.0643,\n",
      "         -0.6984,  1.8457,  0.1593,  0.4511,  1.6058, -0.2007,  1.9209,  0.2727,\n",
      "          0.4503,  0.1986,  1.1310, -0.6654,  0.1534,  0.6002, -1.5946, -0.2340,\n",
      "          1.7530,  1.2730,  0.9993, -0.5039,  1.4143, -1.6673,  0.0196,  0.4144,\n",
      "          0.6063, -0.4205,  0.9230, -1.1743, -0.4397, -0.7117, -0.3186, -0.4129,\n",
      "         -2.1485, -0.1174,  1.1782, -2.1495,  0.1201, -0.9030, -0.9896,  0.8960,\n",
      "          1.3762, -0.7607,  1.3131, -1.5118,  1.8579,  0.9635,  0.8150, -0.7168,\n",
      "          0.3680,  0.0852, -0.9593,  0.1244,  1.8728,  0.9086, -0.5165,  1.6504,\n",
      "         -0.7231,  0.2162,  0.1453,  1.2625,  1.8084, -0.8129,  0.2460,  1.2456]],\n",
      "       grad_fn=<MeanBackward1>)\n"
     ]
    }
   ],
   "source": [
    "emb = C[Xtr]\n",
    "embcat = emb.view(emb.shape[0], -1)\n",
    "hpreact = embcat @ W1\n",
    "bnmean = hpreact.mean(0, keepdim=True)\n",
    "bnstd = hpreact.std(0, keepdim=True)\n",
    "print('mean:', bnmean)"
   ]
  },
  {
   "cell_type": "code",
   "execution_count": 23,
   "metadata": {},
   "outputs": [
    {
     "name": "stdout",
     "output_type": "stream",
     "text": [
      "train loss: 2.066826820373535\n",
      "dev loss: 2.1048474311828613\n"
     ]
    }
   ],
   "source": [
    "@torch.no_grad()\n",
    "def split_loss(split):\n",
    "    x,y = {\n",
    "        'train': (Xtr, Ytr),\n",
    "        'dev': (Xdev, Ydev),\n",
    "        'test': (Xte, Yte)\n",
    "    }[split]\n",
    "    emb = C[x]\n",
    "    embcat = emb.view(emb.shape[0], -1)\n",
    "    hpreact = embcat @ W1\n",
    "    hpreact = bngain * (hpreact - bnmean_running) / bnstd_running + bnbias\n",
    "    h = torch.tanh(hpreact)\n",
    "    logits = h @ W2 + b2\n",
    "    loss = F.cross_entropy(logits, y)\n",
    "    print(split, 'loss:', loss.item())\n",
    "\n",
    "split_loss('train')\n",
    "split_loss('dev')"
   ]
  },
  {
   "cell_type": "code",
   "execution_count": null,
   "metadata": {},
   "outputs": [],
   "source": [
    "#  loss: log\n",
    "\n",
    "'''\n",
    "original\n",
    "train: 2.1245\n",
    "val 2.1682\n",
    "\n",
    "fix softmax confidently wrong:\n",
    "train: 2.07\n",
    "val: 2.13\n",
    "\n",
    "fix tanh layer too saturated at init:\n",
    "train: 2.0356\n",
    "val: 2.1027\n",
    "\n",
    "use semi-principle \"kaiming init\" instead of hacky init:\n",
    "train: 2.0376\n",
    "val: 2.1682\n",
    "\n",
    "add a batch norm layer\n",
    "train: 2.0668\n",
    "val: 2.1048\n",
    "'''"
   ]
  },
  {
   "cell_type": "code",
   "execution_count": 117,
   "metadata": {},
   "outputs": [
    {
     "name": "stdout",
     "output_type": "stream",
     "text": [
      "santhelah\n",
      "demetrilo\n",
      "vuel\n",
      "laven\n",
      "evaughna\n",
      "eon\n",
      "catoven\n",
      "ron\n",
      "mohsina\n",
      "houren\n",
      "angelona\n",
      "keisinora\n",
      "duri\n",
      "akir\n",
      "lynn\n",
      "davitcherrewson\n",
      "amison\n",
      "jaylah\n",
      "kelseila\n",
      "madell\n"
     ]
    }
   ],
   "source": [
    "# g = torch.Generator().manual_seed(2147483647)\n",
    "\n",
    "def generate(n):\n",
    "    for _ in range(n):\n",
    "        context = [0] * block_size\n",
    "        out = []\n",
    "        while True:\n",
    "            emb = C[torch.tensor([context])]\n",
    "            embcat = emb.view(emb.shape[0], -1)\n",
    "            hpreact = embcat @ W1\n",
    "            hpreact = bngain * (hpreact - bnmean_running) / bnstd_running + bnbias\n",
    "            h = torch.tanh(hpreact)\n",
    "            logits = h @ W2 + b2\n",
    "            p = F.softmax(logits, 1)\n",
    "            ix = torch.multinomial(p, 1).item()\n",
    "            if ix == 0:\n",
    "                break\n",
    "            out.append(ix)\n",
    "            context = context[1:] + [ix]\n",
    "            if len(out) == n:\n",
    "                break\n",
    "        print(''.join(itos[i] for i in out))\n",
    "generate(20)\n",
    "    "
   ]
  },
  {
   "cell_type": "code",
   "execution_count": null,
   "metadata": {},
   "outputs": [],
   "source": [
    "# recreate pytorch class #"
   ]
  },
  {
   "cell_type": "code",
   "execution_count": 50,
   "metadata": {},
   "outputs": [],
   "source": [
    "class Linear:\n",
    "    def __init__(self, fan_in, fan_out, bias=True):\n",
    "        self.W = torch.randn((fan_in, fan_out)) / fan_in ** 0.5\n",
    "        self.b = torch.randn(fan_out) if bias else None\n",
    "        \n",
    "    def __call__(self, x):\n",
    "        self.out = x @ self.W\n",
    "        if self.b is not None:\n",
    "            self.out += self.b\n",
    "        return self.out\n",
    "    \n",
    "    def parameters(self):\n",
    "        return [self.W, self.b] if self.b is not None else [self.W]"
   ]
  },
  {
   "cell_type": "code",
   "execution_count": 51,
   "metadata": {},
   "outputs": [],
   "source": [
    "class BatchNorm1d:\n",
    "\n",
    "    def __init__(self, dim, eps=1e-5, momentum=0.1):\n",
    "        self.eps = eps\n",
    "        self.momentum = momentum\n",
    "        self.training = True\n",
    "        self.gamma = torch.ones(dim)\n",
    "        self.beta = torch.zeros(dim)\n",
    "        # buffers (trained with a running mean and std)\n",
    "        self.running_mean = torch.zeros(dim)\n",
    "        self.running_var = torch.ones(dim)\n",
    "\n",
    "    def __call__(self, x):\n",
    "        if self.training:\n",
    "            xmean = x.mean(0, keepdim=True)\n",
    "            xvar = x.var(0, keepdim=True, unbiased=True)\n",
    "        else:\n",
    "            xmean = self.running_mean\n",
    "            xvar = self.running_var\n",
    "        xhat = (x - xmean) / (xvar + self.eps).sqrt()\n",
    "        self.out = self.gamma * xhat + self.beta\n",
    "\n",
    "        if self.training:\n",
    "            with torch.no_grad():\n",
    "                self.running_mean = (1 - self.momentum) * self.running_mean + self.momentum * xmean\n",
    "                self.running_var = (1 - self.momentum) * self.running_var + self.momentum * xvar\n",
    "        return self.out\n",
    "    \n",
    "    def parameters(self):\n",
    "        return [self.gamma, self.beta]\n",
    "    \n",
    "class Tanh:\n",
    "    def __call__(self, x):\n",
    "        self.out = x.tanh()\n",
    "        return self.out\n",
    "    def parameters(self):\n",
    "        return []"
   ]
  },
  {
   "cell_type": "code",
   "execution_count": 54,
   "metadata": {},
   "outputs": [
    {
     "name": "stdout",
     "output_type": "stream",
     "text": [
      "46497\n"
     ]
    }
   ],
   "source": [
    "n_embd = 10\n",
    "n_hidden = 100\n",
    "g = torch.Generator().manual_seed(2147483647)\n",
    "vocab_size = 27\n",
    "\n",
    "C = torch.randn((vocab_size, n_embd), generator=g)\n",
    "layers = [\n",
    "    Linear(n_embd * block_size, n_hidden),\n",
    "    Tanh(),\n",
    "    Linear(n_hidden, n_hidden),\n",
    "    Tanh(),\n",
    "    Linear(n_hidden, n_hidden),\n",
    "    Tanh(),\n",
    "    Linear(n_hidden, n_hidden),\n",
    "    Tanh(),\n",
    "    Linear(n_hidden, n_hidden),\n",
    "    Tanh(),\n",
    "    Linear(n_hidden, vocab_size),\n",
    "]\n",
    "\n",
    "with torch.no_grad():\n",
    "    layers[-1].W *= 0.1\n",
    "\n",
    "for layer in layers[:-1]:\n",
    "    if isinstance(layer, Linear):\n",
    "        layer.W *= 5/3\n",
    "\n",
    "parameters = [C] + [p for layer in layers for p in layer.parameters()]\n",
    "print(sum(p.nelement() for p in parameters))\n",
    "for p in parameters:\n",
    "    p.requires_grad = True"
   ]
  },
  {
   "cell_type": "code",
   "execution_count": null,
   "metadata": {},
   "outputs": [],
   "source": []
  }
 ],
 "metadata": {
  "kernelspec": {
   "display_name": "data_sci",
   "language": "python",
   "name": "python3"
  },
  "language_info": {
   "codemirror_mode": {
    "name": "ipython",
    "version": 3
   },
   "file_extension": ".py",
   "mimetype": "text/x-python",
   "name": "python",
   "nbconvert_exporter": "python",
   "pygments_lexer": "ipython3",
   "version": "3.10.13"
  }
 },
 "nbformat": 4,
 "nbformat_minor": 2
}
